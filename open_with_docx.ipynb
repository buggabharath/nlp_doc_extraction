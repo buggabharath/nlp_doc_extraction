{
 "cells": [
  {
   "cell_type": "code",
   "execution_count": 13,
   "metadata": {},
   "outputs": [],
   "source": [
    "from docx import Document"
   ]
  },
  {
   "cell_type": "code",
   "execution_count": 14,
   "metadata": {},
   "outputs": [],
   "source": [
    "document = Document('resumeA.docx')"
   ]
  },
  {
   "cell_type": "code",
   "execution_count": 15,
   "metadata": {},
   "outputs": [
    {
     "name": "stdout",
     "output_type": "stream",
     "text": [
      "Total 8 Years of experience in Sales & Business Development. \n",
      "Excellent communication, ability to interact with customers globally, negotiation skills.\n",
      "Strong analytical, Interpersonal & problem solving skills.\n",
      "Multitasking and flexible, excellent computer skills, ability to grab new information and technologies quickly.\n",
      "Ability to present information in an effective manner to senior management.\n",
      "Experienced in sales & marketing company products.\n",
      "Working knowledge of  Sales force CRM \n",
      "\n",
      "Qualification:\t\n",
      "MBA from Al-Qarmoshi Institute of Business Management,\n",
      "Osmania University – Hyderabad.\n",
      "B.com , Osmania University – Hyderabad.\n",
      "\n",
      "Work Experience:   (Total 8 years of experience )\n",
      "CEIPAL : ( June 2017 to Currently employed )\n",
      "Senior Business Development Executive\n",
      "Acquiring new clients through cold calling, set up meetings & giving presentations. \n",
      "Reach out to appropriate decision maker through email campaigns.\n",
      "Closes new business deals by coordinating requirements, developing and negotiating contracts, integrating requirement with business operations .\n",
      "Lead a group of talented and dynamic sales executives to help achieve business goals. \n",
      "Develop rapport with stakeholders  and resolve all their queries.\n",
      "Mentor new hires, provide necessary training, guiding and supervising. \n",
      "Interact directly with decision makers and understand their requirements.\n",
      "Explaining about company product and services.\n",
      "Sending RFP'S and RFQ, and closing deal.\n",
      "Ensure all clients query gets resolved.\n",
      "Comprehensive problem solving capabilities with analytical skills,\n",
      "Locates or proposes potential business deals by contacting potential partners, discovering and exploring opportunities.\n",
      "Set up meetings between client decision makers and company leaders.\n",
      "\n",
      "Orbcomm Inc (December 2015 to April 2017.)\n",
      "Business Development Manager :  \n",
      "Selling the GPS systems of the company.\n",
      "Identifies Trendsetter ideas by researching industry and related events, publications, and announcements, tracking individual contributors and their accomplishment.\n",
      "Locates or proposes potential business deals by contacting potential partners, discovering and exploring opportunities.\n",
      "Forecast sales target and ensure they are met by the team. \n",
      "Set up meetings between client decision makers and company leaders.\n",
      "Closes new business deals by coordinating requirements, developing and negotiating contracts, integrating requirement with business operations. \n",
      "Protects organization value by keeping information confidential.\n",
      "Provide information to customers about the company products and services. \n",
      " Interact with customers directly and understand the business requirement.\t\n",
      "Ability to understand and articulate problems faced by the customer, and manages expectations clearly.\n",
      "Exceptional administrative and organizational skills.\n",
      "Cross selling the company products.\n",
      "Proven ability to interact with managers and technical personnel.\n",
      "Conducting training for End – User. Coach and help develop team members; Facilitate problem solving and collaboration.\n",
      "Ability to work on multiple applications and task.\n",
      "Good decision making skills ,extremely service oriented with willingness to learn new things. \n",
      "Good Leadership skills & the ability to work independently\n",
      "\n",
      "\n",
      "\n",
      "Hamtech Solutions -  Family business\n",
      "(July 2014 to November 2015)\n",
      "\n",
      "ADP Pvt LTD.(Nov 2008 to June 2014)\n",
      "Sr. Process Associate : \n",
      "Prospect for new clients by networking, cold calling, or other means of generating interest from potential clients. \n",
      "Locates or proposes potential business deals by contacting potential partners, discovering and exploring opportunities.\n",
      "Training and guiding the new team members.\n",
      "Ensure customer is satisfied with the service, take responsibility of customer query.\n",
      "Ability to understand and articulate problems faced by the customer, and manages expectations clearly.\n",
      "Work for the recruiting team to develop new business & provide staffing solutions to clients .\n",
      "Responsible for acquiring new clients for staffing solutions.  \n",
      "Ability to present information in an effective manner to senior manager.\n",
      "Ability to interact professionally with a wide variety of people in various settings.\n",
      "Making reports on daily basis, providing process improvement ideas.\n",
      "Training and guiding the new team members.\n",
      "Ability and capable to work with customers in a high pressure environment.\n",
      " Personal Skills:\n",
      "Comprehensive problem solving capabilities with analytical skills,\n",
      "Good verbal and written communication skills\n",
      "Quick learner and team player.\n",
      "\n",
      "Initiative:\n",
      "Mentor new hire associates to help them learn with policies and procedures\n",
      "Member of employee engagement team that helps employees to Maintain work life balance and conduct fun activities at work.\n",
      "Member of Information Security Management Systems to maintain a set of policies and regulations  to manage risk related to information assets. \n",
      "\n",
      "Personal Details:\n",
      "Nationality – Indian\n",
      "Languages Known – English,Hindi.\n",
      "Marital Status – Married\n"
     ]
    }
   ],
   "source": [
    "# it got the paragraphs\n",
    "for para in document.paragraphs:\n",
    "    print(para.text)"
   ]
  },
  {
   "cell_type": "code",
   "execution_count": 16,
   "metadata": {},
   "outputs": [
    {
     "data": {
      "text/plain": [
       "1"
      ]
     },
     "execution_count": 16,
     "metadata": {},
     "output_type": "execute_result"
    }
   ],
   "source": [
    "# counts number of Paragraphs\n",
    "para.text.count('\\n\\n') + 1"
   ]
  },
  {
   "cell_type": "code",
   "execution_count": 17,
   "metadata": {},
   "outputs": [],
   "source": [
    "# create a function to get paragraphs in the document using \\n \n",
    "def getText(filename):\n",
    "    doc_new = Document(filename)\n",
    "    fullText = []\n",
    "    for para in document.paragraphs:\n",
    "        fullText.append(para.text)\n",
    "    return '\\n'.join(fullText)"
   ]
  },
  {
   "cell_type": "code",
   "execution_count": 18,
   "metadata": {},
   "outputs": [
    {
     "data": {
      "text/plain": [
       "\"Total 8 Years of experience in Sales & Business Development. \\nExcellent communication, ability to interact with customers globally, negotiation skills.\\nStrong analytical, Interpersonal & problem solving skills.\\nMultitasking and flexible, excellent computer skills, ability to grab new information and technologies quickly.\\nAbility to present information in an effective manner to senior management.\\nExperienced in sales & marketing company products.\\nWorking knowledge of  Sales force CRM \\n\\nQualification:\\t\\nMBA from Al-Qarmoshi Institute of Business Management,\\nOsmania University – Hyderabad.\\nB.com , Osmania University – Hyderabad.\\n\\nWork Experience:   (Total 8 years of experience )\\nCEIPAL : ( June 2017 to Currently employed )\\nSenior Business Development Executive\\nAcquiring new clients through cold calling, set up meetings & giving presentations. \\nReach out to appropriate decision maker through email campaigns.\\nCloses new business deals by coordinating requirements, developing and negotiating contracts, integrating requirement with business operations .\\nLead a group of talented and dynamic sales executives to help achieve business goals.\\xa0\\nDevelop rapport with stakeholders  and resolve all their queries.\\nMentor new hires, provide necessary training, guiding and supervising. \\nInteract directly with decision makers and understand their requirements.\\nExplaining about company product and services.\\nSending RFP'S and RFQ, and closing deal.\\nEnsure all clients query gets resolved.\\nComprehensive problem solving capabilities with analytical skills,\\nLocates or proposes potential business deals by contacting potential partners, discovering and exploring opportunities.\\nSet up meetings between client decision makers and company leaders.\\n\\nOrbcomm Inc (December 2015 to April 2017.)\\nBusiness Development Manager :  \\nSelling the GPS systems of the company.\\nIdentifies Trendsetter ideas by researching industry and related events, publications, and announcements, tracking individual contributors and their accomplishment.\\nLocates or proposes potential business deals by contacting potential partners, discovering and exploring opportunities.\\nForecast sales target and ensure they are met by the team. \\nSet up meetings between client decision makers and company leaders.\\nCloses new business deals by coordinating requirements, developing and negotiating contracts, integrating requirement with business operations. \\nProtects organization value by keeping information confidential.\\nProvide information to customers about the company products and services. \\n Interact with customers directly and understand the business requirement.\\t\\nAbility to understand and articulate problems faced by the customer, and manages expectations clearly.\\nExceptional administrative and organizational skills.\\nCross selling the company products.\\nProven ability to interact with managers and technical personnel.\\nConducting training for End – User. Coach and help develop team members; Facilitate problem solving and collaboration.\\nAbility to work on multiple applications and task.\\nGood decision making skills ,extremely service oriented with willingness to learn new things. \\nGood Leadership skills & the ability to work independently\\n\\n\\n\\nHamtech Solutions -  Family business\\n(July 2014 to November 2015)\\n\\nADP Pvt LTD.(Nov 2008 to June 2014)\\nSr. Process Associate : \\nProspect for new clients by networking, cold calling, or other means of generating interest from potential clients. \\nLocates or proposes potential business deals by contacting potential partners, discovering and exploring opportunities.\\nTraining and guiding the new team members.\\nEnsure customer is satisfied with the service, take responsibility of customer query.\\nAbility to understand and articulate problems faced by the customer, and manages expectations clearly.\\nWork for the recruiting team to develop new business & provide staffing solutions to clients .\\nResponsible for acquiring new clients for staffing solutions.  \\nAbility to present information in an effective manner to senior manager.\\nAbility to interact professionally with a wide variety of people in various settings.\\nMaking reports on daily basis, providing process improvement ideas.\\nTraining and guiding the new team members.\\nAbility and capable to work with customers in a high pressure environment.\\n Personal Skills:\\nComprehensive problem solving capabilities with analytical skills,\\nGood verbal and written communication skills\\nQuick learner and team player.\\n\\nInitiative:\\nMentor new hire associates to help them learn with policies and procedures\\nMember of employee engagement team that helps employees to Maintain work life balance and conduct fun activities at work.\\nMember of Information Security Management Systems to maintain a set of policies and regulations  to manage risk related to information assets. \\n\\nPersonal Details:\\nNationality – Indian\\nLanguages Known – English,Hindi.\\nMarital Status – Married\""
      ]
     },
     "execution_count": 18,
     "metadata": {},
     "output_type": "execute_result"
    }
   ],
   "source": [
    "getText('resumeA.docx')"
   ]
  },
  {
   "cell_type": "code",
   "execution_count": 23,
   "metadata": {},
   "outputs": [
    {
     "ename": "AttributeError",
     "evalue": "'Section' object has no attribute 'runs'",
     "output_type": "error",
     "traceback": [
      "\u001b[1;31m---------------------------------------------------------------------------\u001b[0m",
      "\u001b[1;31mAttributeError\u001b[0m                            Traceback (most recent call last)",
      "\u001b[1;32m<ipython-input-23-21a7d1cf9a47>\u001b[0m in \u001b[0;36m<module>\u001b[1;34m\u001b[0m\n\u001b[0;32m      1\u001b[0m \u001b[1;31m# Get the Bold text in Document\u001b[0m\u001b[1;33m\u001b[0m\u001b[1;33m\u001b[0m\u001b[0m\n\u001b[0;32m      2\u001b[0m \u001b[1;32mfor\u001b[0m \u001b[0mparabold\u001b[0m \u001b[1;32min\u001b[0m \u001b[0mdocument\u001b[0m\u001b[1;33m.\u001b[0m\u001b[0msections\u001b[0m\u001b[1;33m:\u001b[0m\u001b[1;33m\u001b[0m\u001b[0m\n\u001b[1;32m----> 3\u001b[1;33m     \u001b[1;32mfor\u001b[0m \u001b[0mrun\u001b[0m \u001b[1;32min\u001b[0m \u001b[0mparabold\u001b[0m\u001b[1;33m.\u001b[0m\u001b[0mruns\u001b[0m\u001b[1;33m:\u001b[0m\u001b[1;33m\u001b[0m\u001b[0m\n\u001b[0m\u001b[0;32m      4\u001b[0m         \u001b[1;32mif\u001b[0m \u001b[0mrun\u001b[0m\u001b[1;33m.\u001b[0m\u001b[0mbold\u001b[0m\u001b[1;33m:\u001b[0m\u001b[1;33m\u001b[0m\u001b[0m\n\u001b[0;32m      5\u001b[0m             \u001b[0mprint\u001b[0m\u001b[1;33m(\u001b[0m\u001b[0mrun\u001b[0m\u001b[1;33m.\u001b[0m\u001b[0mtext\u001b[0m\u001b[1;33m)\u001b[0m\u001b[1;33m\u001b[0m\u001b[0m\n",
      "\u001b[1;31mAttributeError\u001b[0m: 'Section' object has no attribute 'runs'"
     ]
    }
   ],
   "source": [
    "# Get the Bold text in Document\n",
    "for parabold in document.sections:\n",
    "    for run in parabold.runs:\n",
    "        if run.bold:\n",
    "            print(run.text)"
   ]
  },
  {
   "cell_type": "code",
   "execution_count": 11,
   "metadata": {},
   "outputs": [],
   "source": [
    "# To Check the Particular Style in document\n",
    "\n",
    "for parastyle in document.paragraphs:\n",
    "    if 'List parastyle' == parastyle.style.name:\n",
    "        print(parastyle.text)"
   ]
  },
  {
   "cell_type": "code",
   "execution_count": 15,
   "metadata": {},
   "outputs": [
    {
     "ename": "SyntaxError",
     "evalue": "invalid syntax (<ipython-input-15-9ef38392708e>, line 2)",
     "output_type": "error",
     "traceback": [
      "\u001b[1;36m  File \u001b[1;32m\"<ipython-input-15-9ef38392708e>\"\u001b[1;36m, line \u001b[1;32m2\u001b[0m\n\u001b[1;33m    if style.name = 'List Bullet':\u001b[0m\n\u001b[1;37m                  ^\u001b[0m\n\u001b[1;31mSyntaxError\u001b[0m\u001b[1;31m:\u001b[0m invalid syntax\n"
     ]
    }
   ],
   "source": [
    "for style in document:\n",
    "    if style.name = 'List Bullet':\n",
    "        print \"I'm a bullet\""
   ]
  },
  {
   "cell_type": "code",
   "execution_count": 16,
   "metadata": {},
   "outputs": [],
   "source": [
    "latent_styles = document.styles.latent_styles"
   ]
  },
  {
   "cell_type": "code",
   "execution_count": 17,
   "metadata": {},
   "outputs": [
    {
     "data": {
      "text/plain": [
       "<docx.styles.latent.LatentStyles at 0x28ae9db3da0>"
      ]
     },
     "execution_count": 17,
     "metadata": {},
     "output_type": "execute_result"
    }
   ],
   "source": [
    "latent_styles"
   ]
  },
  {
   "cell_type": "code",
   "execution_count": 19,
   "metadata": {},
   "outputs": [
    {
     "name": "stdout",
     "output_type": "stream",
     "text": [
      "<CT_LatentStyles '<w:latentStyles>' at 0x28aea92a278>\n"
     ]
    }
   ],
   "source": [
    "print(latent_styles.element)"
   ]
  },
  {
   "cell_type": "code",
   "execution_count": null,
   "metadata": {},
   "outputs": [],
   "source": []
  }
 ],
 "metadata": {
  "kernelspec": {
   "display_name": "Python 3",
   "language": "python",
   "name": "python3"
  },
  "language_info": {
   "codemirror_mode": {
    "name": "ipython",
    "version": 3
   },
   "file_extension": ".py",
   "mimetype": "text/x-python",
   "name": "python",
   "nbconvert_exporter": "python",
   "pygments_lexer": "ipython3",
   "version": "3.7.4"
  }
 },
 "nbformat": 4,
 "nbformat_minor": 2
}
